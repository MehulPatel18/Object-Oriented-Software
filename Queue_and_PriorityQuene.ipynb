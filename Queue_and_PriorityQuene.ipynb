{
 "cells": [
  {
   "cell_type": "code",
   "execution_count": 20,
   "id": "37ad5871",
   "metadata": {},
   "outputs": [
    {
     "name": "stdout",
     "output_type": "stream",
     "text": [
      "Popped element from the queue: Hello Python\n"
     ]
    }
   ],
   "source": [
    "import queue\n",
    "\n",
    "tempqueue = queue.Queue()\n",
    "tempqueue.put(\"Hello Python\")\n",
    "\n",
    "popdata = tempqueue.get()\n",
    "\n",
    "print(\"Popped element from the queue:\", popdata)"
   ]
  },
  {
   "cell_type": "code",
   "execution_count": 21,
   "id": "09e69ae1",
   "metadata": {},
   "outputs": [
    {
     "name": "stdout",
     "output_type": "stream",
     "text": [
      "Popped element: (1, 'Python')\n"
     ]
    }
   ],
   "source": [
    "import queue\n",
    "\n",
    "pri_queue = queue.PriorityQueue()\n",
    "\n",
    "pri_queue.put((2, 'Hello'))\n",
    "pri_queue.put((3, 'Welcome'))\n",
    "pri_queue.put((1, 'Python'))\n",
    "\n",
    "\n",
    "pop_data = pri_queue.get()\n",
    "\n",
    "print(\"Popped element:\", pop_data)"
   ]
  },
  {
   "cell_type": "code",
   "execution_count": null,
   "id": "0d4f1c1a",
   "metadata": {},
   "outputs": [],
   "source": []
  }
 ],
 "metadata": {
  "kernelspec": {
   "display_name": "Python 3 (ipykernel)",
   "language": "python",
   "name": "python3"
  },
  "language_info": {
   "codemirror_mode": {
    "name": "ipython",
    "version": 3
   },
   "file_extension": ".py",
   "mimetype": "text/x-python",
   "name": "python",
   "nbconvert_exporter": "python",
   "pygments_lexer": "ipython3",
   "version": "3.11.5"
  }
 },
 "nbformat": 4,
 "nbformat_minor": 5
}
